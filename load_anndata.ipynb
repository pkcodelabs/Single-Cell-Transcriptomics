{
  "nbformat": 4,
  "nbformat_minor": 0,
  "metadata": {
    "colab": {
      "provenance": []
    },
    "kernelspec": {
      "name": "python3",
      "display_name": "Python 3"
    },
    "language_info": {
      "name": "python"
    }
  },
  "cells": [
    {
      "cell_type": "code",
      "source": [
        "from google.colab import drive\n",
        "drive.mount('/content/drive')"
      ],
      "metadata": {
        "colab": {
          "base_uri": "https://localhost:8080/"
        },
        "id": "DgXGtfgbdnKb",
        "outputId": "f597253e-4351-464f-96be-564b598ce40e"
      },
      "execution_count": null,
      "outputs": [
        {
          "output_type": "stream",
          "name": "stdout",
          "text": [
            "Drive already mounted at /content/drive; to attempt to forcibly remount, call drive.mount(\"/content/drive\", force_remount=True).\n"
          ]
        }
      ]
    },
    {
      "cell_type": "code",
      "source": [
        "datasets = \"/content/drive/MyDrive/Datasets/\"\n",
        "breast_atlas = f\"{datasets}Breast_Atlas_ST_8/ST_8.h5ad\"\n",
        "cell2location = \"output_Cell2Location.csv\"\n",
        "tnbc = f\"{datasets}Breast_Cancer_TNBC/TNBC_CID44971_ST.h5ad\""
      ],
      "metadata": {
        "id": "8IgcFuIBds-2"
      },
      "execution_count": null,
      "outputs": []
    },
    {
      "cell_type": "code",
      "source": [
        "!pip install anndata\n",
        "!pip install scanpy"
      ],
      "metadata": {
        "collapsed": true,
        "id": "iL4-KqpHEKeE",
        "colab": {
          "base_uri": "https://localhost:8080/"
        },
        "outputId": "5362ec23-50de-4375-c654-1bdd112c9dc2"
      },
      "execution_count": null,
      "outputs": [
        {
          "output_type": "stream",
          "name": "stdout",
          "text": [
            "Requirement already satisfied: anndata in /usr/local/lib/python3.11/dist-packages (0.12.1)\n",
            "Requirement already satisfied: array-api-compat>=1.7.1 in /usr/local/lib/python3.11/dist-packages (from anndata) (1.12.0)\n",
            "Requirement already satisfied: h5py>=3.8 in /usr/local/lib/python3.11/dist-packages (from anndata) (3.14.0)\n",
            "Requirement already satisfied: legacy-api-wrap in /usr/local/lib/python3.11/dist-packages (from anndata) (1.4.1)\n",
            "Requirement already satisfied: natsort in /usr/local/lib/python3.11/dist-packages (from anndata) (8.4.0)\n",
            "Requirement already satisfied: numpy>=1.26 in /usr/local/lib/python3.11/dist-packages (from anndata) (2.0.2)\n",
            "Requirement already satisfied: packaging>=24.2 in /usr/local/lib/python3.11/dist-packages (from anndata) (25.0)\n",
            "Requirement already satisfied: pandas!=2.1.2,>=2.1.0 in /usr/local/lib/python3.11/dist-packages (from anndata) (2.2.2)\n",
            "Requirement already satisfied: scipy>=1.12 in /usr/local/lib/python3.11/dist-packages (from anndata) (1.16.0)\n",
            "Requirement already satisfied: zarr!=3.0.*,>=2.18.7 in /usr/local/lib/python3.11/dist-packages (from anndata) (3.1.1)\n",
            "Requirement already satisfied: python-dateutil>=2.8.2 in /usr/local/lib/python3.11/dist-packages (from pandas!=2.1.2,>=2.1.0->anndata) (2.9.0.post0)\n",
            "Requirement already satisfied: pytz>=2020.1 in /usr/local/lib/python3.11/dist-packages (from pandas!=2.1.2,>=2.1.0->anndata) (2025.2)\n",
            "Requirement already satisfied: tzdata>=2022.7 in /usr/local/lib/python3.11/dist-packages (from pandas!=2.1.2,>=2.1.0->anndata) (2025.2)\n",
            "Requirement already satisfied: donfig>=0.8 in /usr/local/lib/python3.11/dist-packages (from zarr!=3.0.*,>=2.18.7->anndata) (0.8.1.post1)\n",
            "Requirement already satisfied: numcodecs>=0.14 in /usr/local/lib/python3.11/dist-packages (from numcodecs[crc32c]>=0.14->zarr!=3.0.*,>=2.18.7->anndata) (0.16.1)\n",
            "Requirement already satisfied: typing-extensions>=4.9 in /usr/local/lib/python3.11/dist-packages (from zarr!=3.0.*,>=2.18.7->anndata) (4.14.1)\n",
            "Requirement already satisfied: pyyaml in /usr/local/lib/python3.11/dist-packages (from donfig>=0.8->zarr!=3.0.*,>=2.18.7->anndata) (6.0.2)\n",
            "Requirement already satisfied: crc32c>=2.7 in /usr/local/lib/python3.11/dist-packages (from numcodecs[crc32c]>=0.14->zarr!=3.0.*,>=2.18.7->anndata) (2.7.1)\n",
            "Requirement already satisfied: six>=1.5 in /usr/local/lib/python3.11/dist-packages (from python-dateutil>=2.8.2->pandas!=2.1.2,>=2.1.0->anndata) (1.17.0)\n",
            "Requirement already satisfied: scanpy in /usr/local/lib/python3.11/dist-packages (1.11.4)\n",
            "Requirement already satisfied: anndata>=0.8 in /usr/local/lib/python3.11/dist-packages (from scanpy) (0.12.1)\n",
            "Requirement already satisfied: h5py>=3.7.0 in /usr/local/lib/python3.11/dist-packages (from scanpy) (3.14.0)\n",
            "Requirement already satisfied: joblib in /usr/local/lib/python3.11/dist-packages (from scanpy) (1.5.1)\n",
            "Requirement already satisfied: legacy-api-wrap>=1.4.1 in /usr/local/lib/python3.11/dist-packages (from scanpy) (1.4.1)\n",
            "Requirement already satisfied: matplotlib>=3.7.5 in /usr/local/lib/python3.11/dist-packages (from scanpy) (3.10.0)\n",
            "Requirement already satisfied: natsort in /usr/local/lib/python3.11/dist-packages (from scanpy) (8.4.0)\n",
            "Requirement already satisfied: networkx>=2.7.1 in /usr/local/lib/python3.11/dist-packages (from scanpy) (3.5)\n",
            "Requirement already satisfied: numba>=0.57.1 in /usr/local/lib/python3.11/dist-packages (from scanpy) (0.60.0)\n",
            "Requirement already satisfied: numpy>=1.24.1 in /usr/local/lib/python3.11/dist-packages (from scanpy) (2.0.2)\n",
            "Requirement already satisfied: packaging>=21.3 in /usr/local/lib/python3.11/dist-packages (from scanpy) (25.0)\n",
            "Requirement already satisfied: pandas>=1.5.3 in /usr/local/lib/python3.11/dist-packages (from scanpy) (2.2.2)\n",
            "Requirement already satisfied: patsy!=1.0.0 in /usr/local/lib/python3.11/dist-packages (from scanpy) (1.0.1)\n",
            "Requirement already satisfied: pynndescent>=0.5.13 in /usr/local/lib/python3.11/dist-packages (from scanpy) (0.5.13)\n",
            "Requirement already satisfied: scikit-learn>=1.1.3 in /usr/local/lib/python3.11/dist-packages (from scanpy) (1.6.1)\n",
            "Requirement already satisfied: scipy>=1.8.1 in /usr/local/lib/python3.11/dist-packages (from scanpy) (1.16.0)\n",
            "Requirement already satisfied: seaborn>=0.13.2 in /usr/local/lib/python3.11/dist-packages (from scanpy) (0.13.2)\n",
            "Requirement already satisfied: session-info2 in /usr/local/lib/python3.11/dist-packages (from scanpy) (0.2)\n",
            "Requirement already satisfied: statsmodels>=0.14.5 in /usr/local/lib/python3.11/dist-packages (from scanpy) (0.14.5)\n",
            "Requirement already satisfied: tqdm in /usr/local/lib/python3.11/dist-packages (from scanpy) (4.67.1)\n",
            "Requirement already satisfied: typing-extensions in /usr/local/lib/python3.11/dist-packages (from scanpy) (4.14.1)\n",
            "Requirement already satisfied: umap-learn>=0.5.6 in /usr/local/lib/python3.11/dist-packages (from scanpy) (0.5.9.post2)\n",
            "Requirement already satisfied: array-api-compat>=1.7.1 in /usr/local/lib/python3.11/dist-packages (from anndata>=0.8->scanpy) (1.12.0)\n",
            "Requirement already satisfied: zarr!=3.0.*,>=2.18.7 in /usr/local/lib/python3.11/dist-packages (from anndata>=0.8->scanpy) (3.1.1)\n",
            "Requirement already satisfied: contourpy>=1.0.1 in /usr/local/lib/python3.11/dist-packages (from matplotlib>=3.7.5->scanpy) (1.3.2)\n",
            "Requirement already satisfied: cycler>=0.10 in /usr/local/lib/python3.11/dist-packages (from matplotlib>=3.7.5->scanpy) (0.12.1)\n",
            "Requirement already satisfied: fonttools>=4.22.0 in /usr/local/lib/python3.11/dist-packages (from matplotlib>=3.7.5->scanpy) (4.59.0)\n",
            "Requirement already satisfied: kiwisolver>=1.3.1 in /usr/local/lib/python3.11/dist-packages (from matplotlib>=3.7.5->scanpy) (1.4.8)\n",
            "Requirement already satisfied: pillow>=8 in /usr/local/lib/python3.11/dist-packages (from matplotlib>=3.7.5->scanpy) (11.3.0)\n",
            "Requirement already satisfied: pyparsing>=2.3.1 in /usr/local/lib/python3.11/dist-packages (from matplotlib>=3.7.5->scanpy) (3.2.3)\n",
            "Requirement already satisfied: python-dateutil>=2.7 in /usr/local/lib/python3.11/dist-packages (from matplotlib>=3.7.5->scanpy) (2.9.0.post0)\n",
            "Requirement already satisfied: llvmlite<0.44,>=0.43.0dev0 in /usr/local/lib/python3.11/dist-packages (from numba>=0.57.1->scanpy) (0.43.0)\n",
            "Requirement already satisfied: pytz>=2020.1 in /usr/local/lib/python3.11/dist-packages (from pandas>=1.5.3->scanpy) (2025.2)\n",
            "Requirement already satisfied: tzdata>=2022.7 in /usr/local/lib/python3.11/dist-packages (from pandas>=1.5.3->scanpy) (2025.2)\n",
            "Requirement already satisfied: threadpoolctl>=3.1.0 in /usr/local/lib/python3.11/dist-packages (from scikit-learn>=1.1.3->scanpy) (3.6.0)\n",
            "Requirement already satisfied: six>=1.5 in /usr/local/lib/python3.11/dist-packages (from python-dateutil>=2.7->matplotlib>=3.7.5->scanpy) (1.17.0)\n",
            "Requirement already satisfied: donfig>=0.8 in /usr/local/lib/python3.11/dist-packages (from zarr!=3.0.*,>=2.18.7->anndata>=0.8->scanpy) (0.8.1.post1)\n",
            "Requirement already satisfied: numcodecs>=0.14 in /usr/local/lib/python3.11/dist-packages (from numcodecs[crc32c]>=0.14->zarr!=3.0.*,>=2.18.7->anndata>=0.8->scanpy) (0.16.1)\n",
            "Requirement already satisfied: pyyaml in /usr/local/lib/python3.11/dist-packages (from donfig>=0.8->zarr!=3.0.*,>=2.18.7->anndata>=0.8->scanpy) (6.0.2)\n",
            "Requirement already satisfied: crc32c>=2.7 in /usr/local/lib/python3.11/dist-packages (from numcodecs[crc32c]>=0.14->zarr!=3.0.*,>=2.18.7->anndata>=0.8->scanpy) (2.7.1)\n"
          ]
        }
      ]
    },
    {
      "cell_type": "code",
      "execution_count": null,
      "metadata": {
        "colab": {
          "base_uri": "https://localhost:8080/"
        },
        "id": "MtpwiQQ5DQOL",
        "outputId": "5587f79a-5299-4b1f-87be-bbe601bb6e4a"
      },
      "outputs": [
        {
          "output_type": "stream",
          "name": "stdout",
          "text": [
            "0.12.1\n"
          ]
        }
      ],
      "source": [
        "import numpy as np\n",
        "import pandas as pd\n",
        "import anndata as ad\n",
        "import scanpy as sc\n",
        "from scipy.sparse import csr_matrix\n",
        "print(ad.__version__)"
      ]
    },
    {
      "cell_type": "code",
      "source": [
        "# Load the .h5ad file\n",
        "df_breast_atlas = sc.read_h5ad(breast_atlas)\n",
        "df_tnbc = sc.read_h5ad(tnbc)"
      ],
      "metadata": {
        "id": "nzcerhmSDYCC"
      },
      "execution_count": null,
      "outputs": []
    },
    {
      "cell_type": "code",
      "source": [
        "df_breast_atlas"
      ],
      "metadata": {
        "colab": {
          "base_uri": "https://localhost:8080/"
        },
        "id": "Anz1UmyJDYEt",
        "outputId": "c6c04ce1-7f56-4193-f8a0-b5069a889070"
      },
      "execution_count": null,
      "outputs": [
        {
          "output_type": "execute_result",
          "data": {
            "text/plain": [
              "AnnData object with n_obs × n_vars = 2801 × 36503\n",
              "    obs: 'mapped_reference_assembly', 'mapped_reference_annotation', 'alignment_software', 'donor_id', 'self_reported_ethnicity_ontology_term_id', 'donor_living_at_sample_collection', 'donor_menopausal_status', 'organism_ontology_term_id', 'sample_uuid', 'sample_preservation_method', 'tissue_ontology_term_id', 'development_stage_ontology_term_id', 'sample_derivation_process', 'sample_source', 'donor_BMI_at_collection', 'tissue_section_uuid', 'tissue_section_thickness', 'library_uuid', 'assay_ontology_term_id', 'sequencing_platform', 'is_primary_data', 'cell_type_ontology_term_id', 'author_cell_type', 'disease_ontology_term_id', 'sex_ontology_term_id', 'nCount_Spatial', 'nFeature_Spatial', 'nCount_SCT', 'nFeature_SCT', 'suspension_type', 'tissue_type', 'cell_type', 'assay', 'disease', 'organism', 'sex', 'tissue', 'self_reported_ethnicity', 'development_stage', 'observation_joinid'\n",
              "    var: 'feature_is_filtered', 'feature_name', 'feature_reference', 'feature_biotype', 'feature_length'\n",
              "    uns: 'citation', 'default_embedding', 'image', 'schema_reference', 'schema_version', 'spatial', 'title'\n",
              "    obsm: 'X_pca', 'X_spatial', 'X_umap', 'spatial'"
            ]
          },
          "metadata": {},
          "execution_count": 30
        }
      ]
    },
    {
      "cell_type": "code",
      "source": [
        "df_tnbc"
      ],
      "metadata": {
        "colab": {
          "base_uri": "https://localhost:8080/"
        },
        "id": "jsTB2rqBDYIH",
        "outputId": "de0d5378-3606-4ef0-aae6-9d8f7c0bde16"
      },
      "execution_count": null,
      "outputs": [
        {
          "output_type": "execute_result",
          "data": {
            "text/plain": [
              "AnnData object with n_obs × n_vars = 1162 × 19237\n",
              "    obs: 'new_x', 'new_y', 'pixel_x', 'pixel_y'\n",
              "    uns: 'spatial'\n",
              "    obsm: 'spatial'"
            ]
          },
          "metadata": {},
          "execution_count": 31
        }
      ]
    },
    {
      "cell_type": "code",
      "source": [
        "df_breast_copy = df_breast_atlas.copy()\n",
        "df_tnbc_copy = df_tnbc.copy()"
      ],
      "metadata": {
        "id": "JTFGQfozeKMJ"
      },
      "execution_count": null,
      "outputs": []
    },
    {
      "cell_type": "code",
      "source": [
        "df_breast_copy"
      ],
      "metadata": {
        "colab": {
          "base_uri": "https://localhost:8080/"
        },
        "id": "bLfTwTWqedZQ",
        "outputId": "613c2460-4c54-4fb0-cb66-d45d9563c651"
      },
      "execution_count": null,
      "outputs": [
        {
          "output_type": "execute_result",
          "data": {
            "text/plain": [
              "AnnData object with n_obs × n_vars = 2801 × 36503\n",
              "    obs: 'mapped_reference_assembly', 'mapped_reference_annotation', 'alignment_software', 'donor_id', 'self_reported_ethnicity_ontology_term_id', 'donor_living_at_sample_collection', 'donor_menopausal_status', 'organism_ontology_term_id', 'sample_uuid', 'sample_preservation_method', 'tissue_ontology_term_id', 'development_stage_ontology_term_id', 'sample_derivation_process', 'sample_source', 'donor_BMI_at_collection', 'tissue_section_uuid', 'tissue_section_thickness', 'library_uuid', 'assay_ontology_term_id', 'sequencing_platform', 'is_primary_data', 'cell_type_ontology_term_id', 'author_cell_type', 'disease_ontology_term_id', 'sex_ontology_term_id', 'nCount_Spatial', 'nFeature_Spatial', 'nCount_SCT', 'nFeature_SCT', 'suspension_type', 'tissue_type', 'cell_type', 'assay', 'disease', 'organism', 'sex', 'tissue', 'self_reported_ethnicity', 'development_stage', 'observation_joinid'\n",
              "    var: 'feature_is_filtered', 'feature_name', 'feature_reference', 'feature_biotype', 'feature_length'\n",
              "    uns: 'citation', 'default_embedding', 'image', 'schema_reference', 'schema_version', 'spatial', 'title'\n",
              "    obsm: 'X_pca', 'X_spatial', 'X_umap', 'spatial'"
            ]
          },
          "metadata": {},
          "execution_count": 33
        }
      ]
    },
    {
      "cell_type": "code",
      "source": [
        "df_tnbc_copy"
      ],
      "metadata": {
        "colab": {
          "base_uri": "https://localhost:8080/"
        },
        "id": "8o6qDzhMefsE",
        "outputId": "fcef0e0f-2244-4689-85e7-590b6e7e733f"
      },
      "execution_count": null,
      "outputs": [
        {
          "output_type": "execute_result",
          "data": {
            "text/plain": [
              "AnnData object with n_obs × n_vars = 1162 × 19237\n",
              "    obs: 'new_x', 'new_y', 'pixel_x', 'pixel_y'\n",
              "    uns: 'spatial'\n",
              "    obsm: 'spatial'"
            ]
          },
          "metadata": {},
          "execution_count": 34
        }
      ]
    },
    {
      "cell_type": "code",
      "source": [
        "df_breast_copy.obs = pd.DataFrame(index=df_breast_copy.obs_names)\n",
        "df_tnbc_copy.obs = pd.DataFrame(index=df_tnbc_copy.obs_names)"
      ],
      "metadata": {
        "id": "RIf74IKreSWt"
      },
      "execution_count": null,
      "outputs": []
    },
    {
      "cell_type": "code",
      "source": [
        "# Step 1: Set the index to \"feature_name\"\n",
        "df_breast_copy.var.index = df_breast_copy.var[\"feature_name\"].values\n",
        "\n",
        "# Step 2: Remove all other columns, keeping only the index\n",
        "df_breast_copy.var = pd.DataFrame(index=df_breast_copy.var.index)"
      ],
      "metadata": {
        "colab": {
          "base_uri": "https://localhost:8080/"
        },
        "collapsed": true,
        "id": "DSuBsV7iejhW",
        "outputId": "024c7ed5-7dcf-4228-82d9-76da63d0e299"
      },
      "execution_count": null,
      "outputs": [
        {
          "output_type": "stream",
          "name": "stderr",
          "text": [
            "/usr/local/lib/python3.11/dist-packages/anndata/_core/anndata.py:759: UserWarning: \n",
            "AnnData expects .var.index to contain strings, but got values like:\n",
            "    ['MIR1302-2HG', 'FAM138A', 'OR4F5', 'RP11-34P13.7', 'RP11-34P13.8']\n",
            "\n",
            "    Inferred to be: categorical\n",
            "\n",
            "  value_idx = self._prep_dim_index(value.index, attr)\n"
          ]
        }
      ]
    },
    {
      "cell_type": "code",
      "source": [
        "df_breast_copy.uns = {}\n",
        "df_breast_copy.obsm = {}\n",
        "df_tnbc_copy.uns = {}\n",
        "df_tnbc_copy.obsm = {}"
      ],
      "metadata": {
        "id": "kg6js0Vqeuk0"
      },
      "execution_count": null,
      "outputs": []
    },
    {
      "cell_type": "code",
      "source": [
        "# Step 1: Find common gene names\n",
        "common_genes = df_breast_copy.var_names.intersection(df_tnbc_copy.var_names)\n",
        "\n",
        "# Step 2: Sort common genes (optional but recommended for consistent order)\n",
        "common_genes = sorted(common_genes)\n",
        "\n",
        "# Step 3: Subset both AnnData objects\n",
        "df_breast_copy = df_breast_copy[:, common_genes].copy()\n",
        "df_tnbc_copy = df_tnbc_copy[:, common_genes].copy()\n"
      ],
      "metadata": {
        "id": "ZDIxH0Tce-P8"
      },
      "execution_count": null,
      "outputs": []
    },
    {
      "cell_type": "code",
      "source": [
        "# Add custom labels to adata1\n",
        "df_breast_copy.obs[\"batch\"] = \"0\"\n",
        "df_breast_copy.obs[\"condition 1\"] = \"healthy\"\n",
        "df_breast_copy.obs[\"annos\"] = \"CellType\"\n",
        "\n",
        "# Add custom labels to adata2\n",
        "df_tnbc_copy.obs[\"batch\"] = \"1\"\n",
        "df_tnbc_copy.obs[\"condition 1\"] = \"diseased\"\n",
        "df_tnbc_copy.obs[\"annos\"] = \"CellType\"\n"
      ],
      "metadata": {
        "id": "bG2eIz4Fhs8g"
      },
      "execution_count": null,
      "outputs": []
    },
    {
      "cell_type": "code",
      "source": [
        "# Now concatenate without using the `label` argument\n",
        "df_combined = ad.concat([df_breast_copy, df_tnbc_copy], join=\"inner\", axis=0)"
      ],
      "metadata": {
        "colab": {
          "base_uri": "https://localhost:8080/"
        },
        "id": "wy4vogetfP3b",
        "outputId": "72e5e972-9f45-4df3-f981-d28c06c23019"
      },
      "execution_count": null,
      "outputs": [
        {
          "output_type": "stream",
          "name": "stderr",
          "text": [
            "/tmp/ipython-input-2635571109.py:2: UserWarning: Only some AnnData objects have `.raw` attribute, not concatenating `.raw` attributes.\n",
            "  df_combined = ad.concat([df_breast_copy, df_tnbc_copy], join=\"inner\", axis=0)\n"
          ]
        }
      ]
    },
    {
      "cell_type": "code",
      "source": [
        "df_combined"
      ],
      "metadata": {
        "colab": {
          "base_uri": "https://localhost:8080/"
        },
        "id": "AWOMezV5fX8N",
        "outputId": "ed8c7935-f351-4288-d767-54b9176eb28f"
      },
      "execution_count": null,
      "outputs": [
        {
          "output_type": "execute_result",
          "data": {
            "text/plain": [
              "AnnData object with n_obs × n_vars = 3963 × 16498\n",
              "    obs: 'batch', 'condition 1', 'annos'"
            ]
          },
          "metadata": {},
          "execution_count": 41
        }
      ]
    },
    {
      "cell_type": "code",
      "metadata": {
        "id": "0dc0b033",
        "colab": {
          "base_uri": "https://localhost:8080/"
        },
        "outputId": "3f641548-0ec8-40c2-a4b8-2e9e16aa5a42"
      },
      "source": [
        "!pip install scikit-misc"
      ],
      "execution_count": null,
      "outputs": [
        {
          "output_type": "stream",
          "name": "stdout",
          "text": [
            "Requirement already satisfied: scikit-misc in /usr/local/lib/python3.11/dist-packages (0.5.1)\n",
            "Requirement already satisfied: numpy>=1.23.5 in /usr/local/lib/python3.11/dist-packages (from scikit-misc) (2.0.2)\n"
          ]
        }
      ]
    },
    {
      "cell_type": "code",
      "metadata": {
        "colab": {
          "base_uri": "https://localhost:8080/"
        },
        "id": "c8173b2f",
        "outputId": "0f8fe3be-4ea1-47ba-a54f-ea68de40ab8a"
      },
      "source": [
        "sc.pp.highly_variable_genes(\n",
        "    df_combined,\n",
        "    flavor=\"seurat_v3\",      # or 'cell_ranger' / 'seurat'\n",
        "    n_top_genes=2000,        # you can change this as needed\n",
        "    batch_key=\"batch\"        # important if your data has batch effects\n",
        ")\n",
        "\n",
        "# Step 3: Filter to HVGs if desired\n",
        "adata_hvg = df_combined[:, df_combined.var['highly_variable']].copy()\n",
        "\n",
        "# Optional: Check result\n",
        "print(\"Number of HVGs:\", adata_hvg.shape[1])"
      ],
      "execution_count": null,
      "outputs": [
        {
          "output_type": "stream",
          "name": "stdout",
          "text": [
            "Number of HVGs: 2000\n"
          ]
        }
      ]
    },
    {
      "cell_type": "code",
      "source": [
        "adata_hvg.obs"
      ],
      "metadata": {
        "colab": {
          "base_uri": "https://localhost:8080/"
        },
        "id": "_VWgW8qngIg1",
        "outputId": "657e65f3-12ad-4e4b-aab3-81ad95120da6"
      },
      "execution_count": null,
      "outputs": [
        {
          "output_type": "execute_result",
          "data": {
            "text/plain": [
              "                      batch condition 1     annos\n",
              "AAACAGCTTTCAGAAG-1_10     0     healthy  CellType\n",
              "AAACAGGGTCTATATT-1_10     0     healthy  CellType\n",
              "AAACAGTGTTCCTGGG-1_10     0     healthy  CellType\n",
              "AAACATGGTGAGAGGA-1_10     0     healthy  CellType\n",
              "AAACATTTCCCGGATT-1_10     0     healthy  CellType\n",
              "...                     ...         ...       ...\n",
              "TGCAGTGGTAGGGAAC-1        1    diseased  CellType\n",
              "AGCGAGACGTGAAGGC-1        1    diseased  CellType\n",
              "CAGTGTTAATCTCTCA-1        1    diseased  CellType\n",
              "GATCGCTGTGGTGCGT-1        1    diseased  CellType\n",
              "CTCTGCAGGCATTCTT-1        1    diseased  CellType\n",
              "\n",
              "[3963 rows x 3 columns]"
            ],
            "text/html": [
              "\n",
              "  <div id=\"df-fcfa4593-08af-4624-8dc2-095c4cbd6d38\" class=\"colab-df-container\">\n",
              "    <div>\n",
              "<style scoped>\n",
              "    .dataframe tbody tr th:only-of-type {\n",
              "        vertical-align: middle;\n",
              "    }\n",
              "\n",
              "    .dataframe tbody tr th {\n",
              "        vertical-align: top;\n",
              "    }\n",
              "\n",
              "    .dataframe thead th {\n",
              "        text-align: right;\n",
              "    }\n",
              "</style>\n",
              "<table border=\"1\" class=\"dataframe\">\n",
              "  <thead>\n",
              "    <tr style=\"text-align: right;\">\n",
              "      <th></th>\n",
              "      <th>batch</th>\n",
              "      <th>condition 1</th>\n",
              "      <th>annos</th>\n",
              "    </tr>\n",
              "  </thead>\n",
              "  <tbody>\n",
              "    <tr>\n",
              "      <th>AAACAGCTTTCAGAAG-1_10</th>\n",
              "      <td>0</td>\n",
              "      <td>healthy</td>\n",
              "      <td>CellType</td>\n",
              "    </tr>\n",
              "    <tr>\n",
              "      <th>AAACAGGGTCTATATT-1_10</th>\n",
              "      <td>0</td>\n",
              "      <td>healthy</td>\n",
              "      <td>CellType</td>\n",
              "    </tr>\n",
              "    <tr>\n",
              "      <th>AAACAGTGTTCCTGGG-1_10</th>\n",
              "      <td>0</td>\n",
              "      <td>healthy</td>\n",
              "      <td>CellType</td>\n",
              "    </tr>\n",
              "    <tr>\n",
              "      <th>AAACATGGTGAGAGGA-1_10</th>\n",
              "      <td>0</td>\n",
              "      <td>healthy</td>\n",
              "      <td>CellType</td>\n",
              "    </tr>\n",
              "    <tr>\n",
              "      <th>AAACATTTCCCGGATT-1_10</th>\n",
              "      <td>0</td>\n",
              "      <td>healthy</td>\n",
              "      <td>CellType</td>\n",
              "    </tr>\n",
              "    <tr>\n",
              "      <th>...</th>\n",
              "      <td>...</td>\n",
              "      <td>...</td>\n",
              "      <td>...</td>\n",
              "    </tr>\n",
              "    <tr>\n",
              "      <th>TGCAGTGGTAGGGAAC-1</th>\n",
              "      <td>1</td>\n",
              "      <td>diseased</td>\n",
              "      <td>CellType</td>\n",
              "    </tr>\n",
              "    <tr>\n",
              "      <th>AGCGAGACGTGAAGGC-1</th>\n",
              "      <td>1</td>\n",
              "      <td>diseased</td>\n",
              "      <td>CellType</td>\n",
              "    </tr>\n",
              "    <tr>\n",
              "      <th>CAGTGTTAATCTCTCA-1</th>\n",
              "      <td>1</td>\n",
              "      <td>diseased</td>\n",
              "      <td>CellType</td>\n",
              "    </tr>\n",
              "    <tr>\n",
              "      <th>GATCGCTGTGGTGCGT-1</th>\n",
              "      <td>1</td>\n",
              "      <td>diseased</td>\n",
              "      <td>CellType</td>\n",
              "    </tr>\n",
              "    <tr>\n",
              "      <th>CTCTGCAGGCATTCTT-1</th>\n",
              "      <td>1</td>\n",
              "      <td>diseased</td>\n",
              "      <td>CellType</td>\n",
              "    </tr>\n",
              "  </tbody>\n",
              "</table>\n",
              "<p>3963 rows × 3 columns</p>\n",
              "</div>\n",
              "    <div class=\"colab-df-buttons\">\n",
              "\n",
              "  <div class=\"colab-df-container\">\n",
              "    <button class=\"colab-df-convert\" onclick=\"convertToInteractive('df-fcfa4593-08af-4624-8dc2-095c4cbd6d38')\"\n",
              "            title=\"Convert this dataframe to an interactive table.\"\n",
              "            style=\"display:none;\">\n",
              "\n",
              "  <svg xmlns=\"http://www.w3.org/2000/svg\" height=\"24px\" viewBox=\"0 -960 960 960\">\n",
              "    <path d=\"M120-120v-720h720v720H120Zm60-500h600v-160H180v160Zm220 220h160v-160H400v160Zm0 220h160v-160H400v160ZM180-400h160v-160H180v160Zm440 0h160v-160H620v160ZM180-180h160v-160H180v160Zm440 0h160v-160H620v160Z\"/>\n",
              "  </svg>\n",
              "    </button>\n",
              "\n",
              "  <style>\n",
              "    .colab-df-container {\n",
              "      display:flex;\n",
              "      gap: 12px;\n",
              "    }\n",
              "\n",
              "    .colab-df-convert {\n",
              "      background-color: #E8F0FE;\n",
              "      border: none;\n",
              "      border-radius: 50%;\n",
              "      cursor: pointer;\n",
              "      display: none;\n",
              "      fill: #1967D2;\n",
              "      height: 32px;\n",
              "      padding: 0 0 0 0;\n",
              "      width: 32px;\n",
              "    }\n",
              "\n",
              "    .colab-df-convert:hover {\n",
              "      background-color: #E2EBFA;\n",
              "      box-shadow: 0px 1px 2px rgba(60, 64, 67, 0.3), 0px 1px 3px 1px rgba(60, 64, 67, 0.15);\n",
              "      fill: #174EA6;\n",
              "    }\n",
              "\n",
              "    .colab-df-buttons div {\n",
              "      margin-bottom: 4px;\n",
              "    }\n",
              "\n",
              "    [theme=dark] .colab-df-convert {\n",
              "      background-color: #3B4455;\n",
              "      fill: #D2E3FC;\n",
              "    }\n",
              "\n",
              "    [theme=dark] .colab-df-convert:hover {\n",
              "      background-color: #434B5C;\n",
              "      box-shadow: 0px 1px 3px 1px rgba(0, 0, 0, 0.15);\n",
              "      filter: drop-shadow(0px 1px 2px rgba(0, 0, 0, 0.3));\n",
              "      fill: #FFFFFF;\n",
              "    }\n",
              "  </style>\n",
              "\n",
              "    <script>\n",
              "      const buttonEl =\n",
              "        document.querySelector('#df-fcfa4593-08af-4624-8dc2-095c4cbd6d38 button.colab-df-convert');\n",
              "      buttonEl.style.display =\n",
              "        google.colab.kernel.accessAllowed ? 'block' : 'none';\n",
              "\n",
              "      async function convertToInteractive(key) {\n",
              "        const element = document.querySelector('#df-fcfa4593-08af-4624-8dc2-095c4cbd6d38');\n",
              "        const dataTable =\n",
              "          await google.colab.kernel.invokeFunction('convertToInteractive',\n",
              "                                                    [key], {});\n",
              "        if (!dataTable) return;\n",
              "\n",
              "        const docLinkHtml = 'Like what you see? Visit the ' +\n",
              "          '<a target=\"_blank\" href=https://colab.research.google.com/notebooks/data_table.ipynb>data table notebook</a>'\n",
              "          + ' to learn more about interactive tables.';\n",
              "        element.innerHTML = '';\n",
              "        dataTable['output_type'] = 'display_data';\n",
              "        await google.colab.output.renderOutput(dataTable, element);\n",
              "        const docLink = document.createElement('div');\n",
              "        docLink.innerHTML = docLinkHtml;\n",
              "        element.appendChild(docLink);\n",
              "      }\n",
              "    </script>\n",
              "  </div>\n",
              "\n",
              "\n",
              "    <div id=\"df-e45f249b-8be5-4e87-a552-400ffc614321\">\n",
              "      <button class=\"colab-df-quickchart\" onclick=\"quickchart('df-e45f249b-8be5-4e87-a552-400ffc614321')\"\n",
              "                title=\"Suggest charts\"\n",
              "                style=\"display:none;\">\n",
              "\n",
              "<svg xmlns=\"http://www.w3.org/2000/svg\" height=\"24px\"viewBox=\"0 0 24 24\"\n",
              "     width=\"24px\">\n",
              "    <g>\n",
              "        <path d=\"M19 3H5c-1.1 0-2 .9-2 2v14c0 1.1.9 2 2 2h14c1.1 0 2-.9 2-2V5c0-1.1-.9-2-2-2zM9 17H7v-7h2v7zm4 0h-2V7h2v10zm4 0h-2v-4h2v4z\"/>\n",
              "    </g>\n",
              "</svg>\n",
              "      </button>\n",
              "\n",
              "<style>\n",
              "  .colab-df-quickchart {\n",
              "      --bg-color: #E8F0FE;\n",
              "      --fill-color: #1967D2;\n",
              "      --hover-bg-color: #E2EBFA;\n",
              "      --hover-fill-color: #174EA6;\n",
              "      --disabled-fill-color: #AAA;\n",
              "      --disabled-bg-color: #DDD;\n",
              "  }\n",
              "\n",
              "  [theme=dark] .colab-df-quickchart {\n",
              "      --bg-color: #3B4455;\n",
              "      --fill-color: #D2E3FC;\n",
              "      --hover-bg-color: #434B5C;\n",
              "      --hover-fill-color: #FFFFFF;\n",
              "      --disabled-bg-color: #3B4455;\n",
              "      --disabled-fill-color: #666;\n",
              "  }\n",
              "\n",
              "  .colab-df-quickchart {\n",
              "    background-color: var(--bg-color);\n",
              "    border: none;\n",
              "    border-radius: 50%;\n",
              "    cursor: pointer;\n",
              "    display: none;\n",
              "    fill: var(--fill-color);\n",
              "    height: 32px;\n",
              "    padding: 0;\n",
              "    width: 32px;\n",
              "  }\n",
              "\n",
              "  .colab-df-quickchart:hover {\n",
              "    background-color: var(--hover-bg-color);\n",
              "    box-shadow: 0 1px 2px rgba(60, 64, 67, 0.3), 0 1px 3px 1px rgba(60, 64, 67, 0.15);\n",
              "    fill: var(--button-hover-fill-color);\n",
              "  }\n",
              "\n",
              "  .colab-df-quickchart-complete:disabled,\n",
              "  .colab-df-quickchart-complete:disabled:hover {\n",
              "    background-color: var(--disabled-bg-color);\n",
              "    fill: var(--disabled-fill-color);\n",
              "    box-shadow: none;\n",
              "  }\n",
              "\n",
              "  .colab-df-spinner {\n",
              "    border: 2px solid var(--fill-color);\n",
              "    border-color: transparent;\n",
              "    border-bottom-color: var(--fill-color);\n",
              "    animation:\n",
              "      spin 1s steps(1) infinite;\n",
              "  }\n",
              "\n",
              "  @keyframes spin {\n",
              "    0% {\n",
              "      border-color: transparent;\n",
              "      border-bottom-color: var(--fill-color);\n",
              "      border-left-color: var(--fill-color);\n",
              "    }\n",
              "    20% {\n",
              "      border-color: transparent;\n",
              "      border-left-color: var(--fill-color);\n",
              "      border-top-color: var(--fill-color);\n",
              "    }\n",
              "    30% {\n",
              "      border-color: transparent;\n",
              "      border-left-color: var(--fill-color);\n",
              "      border-top-color: var(--fill-color);\n",
              "      border-right-color: var(--fill-color);\n",
              "    }\n",
              "    40% {\n",
              "      border-color: transparent;\n",
              "      border-right-color: var(--fill-color);\n",
              "      border-top-color: var(--fill-color);\n",
              "    }\n",
              "    60% {\n",
              "      border-color: transparent;\n",
              "      border-right-color: var(--fill-color);\n",
              "    }\n",
              "    80% {\n",
              "      border-color: transparent;\n",
              "      border-right-color: var(--fill-color);\n",
              "      border-bottom-color: var(--fill-color);\n",
              "    }\n",
              "    90% {\n",
              "      border-color: transparent;\n",
              "      border-bottom-color: var(--fill-color);\n",
              "    }\n",
              "  }\n",
              "</style>\n",
              "\n",
              "      <script>\n",
              "        async function quickchart(key) {\n",
              "          const quickchartButtonEl =\n",
              "            document.querySelector('#' + key + ' button');\n",
              "          quickchartButtonEl.disabled = true;  // To prevent multiple clicks.\n",
              "          quickchartButtonEl.classList.add('colab-df-spinner');\n",
              "          try {\n",
              "            const charts = await google.colab.kernel.invokeFunction(\n",
              "                'suggestCharts', [key], {});\n",
              "          } catch (error) {\n",
              "            console.error('Error during call to suggestCharts:', error);\n",
              "          }\n",
              "          quickchartButtonEl.classList.remove('colab-df-spinner');\n",
              "          quickchartButtonEl.classList.add('colab-df-quickchart-complete');\n",
              "        }\n",
              "        (() => {\n",
              "          let quickchartButtonEl =\n",
              "            document.querySelector('#df-e45f249b-8be5-4e87-a552-400ffc614321 button');\n",
              "          quickchartButtonEl.style.display =\n",
              "            google.colab.kernel.accessAllowed ? 'block' : 'none';\n",
              "        })();\n",
              "      </script>\n",
              "    </div>\n",
              "\n",
              "    </div>\n",
              "  </div>\n"
            ],
            "application/vnd.google.colaboratory.intrinsic+json": {
              "type": "dataframe",
              "summary": "{\n  \"name\": \"adata_hvg\",\n  \"rows\": 3963,\n  \"fields\": [\n    {\n      \"column\": \"batch\",\n      \"properties\": {\n        \"dtype\": \"category\",\n        \"num_unique_values\": 2,\n        \"samples\": [\n          \"1\",\n          \"0\"\n        ],\n        \"semantic_type\": \"\",\n        \"description\": \"\"\n      }\n    },\n    {\n      \"column\": \"condition 1\",\n      \"properties\": {\n        \"dtype\": \"category\",\n        \"num_unique_values\": 2,\n        \"samples\": [\n          \"diseased\",\n          \"healthy\"\n        ],\n        \"semantic_type\": \"\",\n        \"description\": \"\"\n      }\n    },\n    {\n      \"column\": \"annos\",\n      \"properties\": {\n        \"dtype\": \"category\",\n        \"num_unique_values\": 1,\n        \"samples\": [\n          \"CellType\"\n        ],\n        \"semantic_type\": \"\",\n        \"description\": \"\"\n      }\n    }\n  ]\n}"
            }
          },
          "metadata": {},
          "execution_count": 44
        }
      ]
    },
    {
      "cell_type": "code",
      "source": [
        "# Store adata_hvg.obs as csv\n",
        "adata_hvg.obs.to_csv('/content/drive/MyDrive/Datasets/scDisInFact/meta_cells_with_annos.csv')"
      ],
      "metadata": {
        "id": "s5NNDEMhX72q"
      },
      "execution_count": null,
      "outputs": []
    },
    {
      "cell_type": "code",
      "source": [
        "adata_hvg.write('/content/drive/MyDrive/Datasets/scDisInFact/breast_hvgs.h5ad', compression=\"gzip\")"
      ],
      "metadata": {
        "id": "bOJREFCxjqMO"
      },
      "execution_count": null,
      "outputs": []
    },
    {
      "cell_type": "code",
      "source": [
        "!h5ls '/content/drive/MyDrive/Datasets/scDisInFact/breast_hvgs.h5ad'"
      ],
      "metadata": {
        "colab": {
          "base_uri": "https://localhost:8080/"
        },
        "id": "D-pkpl0ykHQF",
        "outputId": "e7d1edbf-5e69-45fb-e730-9e75ee93794f"
      },
      "execution_count": null,
      "outputs": [
        {
          "output_type": "stream",
          "name": "stdout",
          "text": [
            "/bin/bash: line 1: h5ls: command not found\n"
          ]
        }
      ]
    }
  ]
}